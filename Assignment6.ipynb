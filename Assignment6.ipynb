{
  "nbformat": 4,
  "nbformat_minor": 0,
  "metadata": {
    "colab": {
      "name": "Assignment 6.ipynb",
      "provenance": [],
      "authorship_tag": "ABX9TyNvjcbU0/k9Z1Nud3VPHE4g",
      "include_colab_link": true
    },
    "kernelspec": {
      "name": "python3",
      "display_name": "Python 3"
    },
    "widgets": {
      "application/vnd.jupyter.widget-state+json": {
        "a43a54687f2b4f81a4fe2b31daef7502": {
          "model_module": "@jupyter-widgets/controls",
          "model_name": "HBoxModel",
          "state": {
            "_view_name": "HBoxView",
            "_dom_classes": [],
            "_model_name": "HBoxModel",
            "_view_module": "@jupyter-widgets/controls",
            "_model_module_version": "1.5.0",
            "_view_count": null,
            "_view_module_version": "1.5.0",
            "box_style": "",
            "layout": "IPY_MODEL_b60c53802b2143f79b7b6f869b0a3acb",
            "_model_module": "@jupyter-widgets/controls",
            "children": [
              "IPY_MODEL_985811556f1146ac8b9f325fa1fff325",
              "IPY_MODEL_b563c6a2b56f44879f45a77e57de4087"
            ]
          }
        },
        "b60c53802b2143f79b7b6f869b0a3acb": {
          "model_module": "@jupyter-widgets/base",
          "model_name": "LayoutModel",
          "state": {
            "_view_name": "LayoutView",
            "grid_template_rows": null,
            "right": null,
            "justify_content": null,
            "_view_module": "@jupyter-widgets/base",
            "overflow": null,
            "_model_module_version": "1.2.0",
            "_view_count": null,
            "flex_flow": null,
            "width": null,
            "min_width": null,
            "border": null,
            "align_items": null,
            "bottom": null,
            "_model_module": "@jupyter-widgets/base",
            "top": null,
            "grid_column": null,
            "overflow_y": null,
            "overflow_x": null,
            "grid_auto_flow": null,
            "grid_area": null,
            "grid_template_columns": null,
            "flex": null,
            "_model_name": "LayoutModel",
            "justify_items": null,
            "grid_row": null,
            "max_height": null,
            "align_content": null,
            "visibility": null,
            "align_self": null,
            "height": null,
            "min_height": null,
            "padding": null,
            "grid_auto_rows": null,
            "grid_gap": null,
            "max_width": null,
            "order": null,
            "_view_module_version": "1.2.0",
            "grid_template_areas": null,
            "object_position": null,
            "object_fit": null,
            "grid_auto_columns": null,
            "margin": null,
            "display": null,
            "left": null
          }
        },
        "985811556f1146ac8b9f325fa1fff325": {
          "model_module": "@jupyter-widgets/controls",
          "model_name": "IntProgressModel",
          "state": {
            "_view_name": "ProgressView",
            "style": "IPY_MODEL_536104e3e9b14649b30eca877b4e19a1",
            "_dom_classes": [],
            "description": "epoch 0: 100%",
            "_model_name": "IntProgressModel",
            "bar_style": "success",
            "max": 403,
            "_view_module": "@jupyter-widgets/controls",
            "_model_module_version": "1.5.0",
            "value": 403,
            "_view_count": null,
            "_view_module_version": "1.5.0",
            "orientation": "horizontal",
            "min": 0,
            "description_tooltip": null,
            "_model_module": "@jupyter-widgets/controls",
            "layout": "IPY_MODEL_363c6c2164f84d64b31dd68e088ed468"
          }
        },
        "b563c6a2b56f44879f45a77e57de4087": {
          "model_module": "@jupyter-widgets/controls",
          "model_name": "HTMLModel",
          "state": {
            "_view_name": "HTMLView",
            "style": "IPY_MODEL_ecc18cf8b0bd47d3b222917fd493cce4",
            "_dom_classes": [],
            "description": "",
            "_model_name": "HTMLModel",
            "placeholder": "​",
            "_view_module": "@jupyter-widgets/controls",
            "_model_module_version": "1.5.0",
            "value": " 403/403 [1:08:28&lt;00:00, 10.20s/it, loss=5.86108]",
            "_view_count": null,
            "_view_module_version": "1.5.0",
            "description_tooltip": null,
            "_model_module": "@jupyter-widgets/controls",
            "layout": "IPY_MODEL_69bdbee22bd74fa2959842124bc4c3f8"
          }
        },
        "536104e3e9b14649b30eca877b4e19a1": {
          "model_module": "@jupyter-widgets/controls",
          "model_name": "ProgressStyleModel",
          "state": {
            "_view_name": "StyleView",
            "_model_name": "ProgressStyleModel",
            "description_width": "initial",
            "_view_module": "@jupyter-widgets/base",
            "_model_module_version": "1.5.0",
            "_view_count": null,
            "_view_module_version": "1.2.0",
            "bar_color": null,
            "_model_module": "@jupyter-widgets/controls"
          }
        },
        "363c6c2164f84d64b31dd68e088ed468": {
          "model_module": "@jupyter-widgets/base",
          "model_name": "LayoutModel",
          "state": {
            "_view_name": "LayoutView",
            "grid_template_rows": null,
            "right": null,
            "justify_content": null,
            "_view_module": "@jupyter-widgets/base",
            "overflow": null,
            "_model_module_version": "1.2.0",
            "_view_count": null,
            "flex_flow": null,
            "width": null,
            "min_width": null,
            "border": null,
            "align_items": null,
            "bottom": null,
            "_model_module": "@jupyter-widgets/base",
            "top": null,
            "grid_column": null,
            "overflow_y": null,
            "overflow_x": null,
            "grid_auto_flow": null,
            "grid_area": null,
            "grid_template_columns": null,
            "flex": null,
            "_model_name": "LayoutModel",
            "justify_items": null,
            "grid_row": null,
            "max_height": null,
            "align_content": null,
            "visibility": null,
            "align_self": null,
            "height": null,
            "min_height": null,
            "padding": null,
            "grid_auto_rows": null,
            "grid_gap": null,
            "max_width": null,
            "order": null,
            "_view_module_version": "1.2.0",
            "grid_template_areas": null,
            "object_position": null,
            "object_fit": null,
            "grid_auto_columns": null,
            "margin": null,
            "display": null,
            "left": null
          }
        },
        "ecc18cf8b0bd47d3b222917fd493cce4": {
          "model_module": "@jupyter-widgets/controls",
          "model_name": "DescriptionStyleModel",
          "state": {
            "_view_name": "StyleView",
            "_model_name": "DescriptionStyleModel",
            "description_width": "",
            "_view_module": "@jupyter-widgets/base",
            "_model_module_version": "1.5.0",
            "_view_count": null,
            "_view_module_version": "1.2.0",
            "_model_module": "@jupyter-widgets/controls"
          }
        },
        "69bdbee22bd74fa2959842124bc4c3f8": {
          "model_module": "@jupyter-widgets/base",
          "model_name": "LayoutModel",
          "state": {
            "_view_name": "LayoutView",
            "grid_template_rows": null,
            "right": null,
            "justify_content": null,
            "_view_module": "@jupyter-widgets/base",
            "overflow": null,
            "_model_module_version": "1.2.0",
            "_view_count": null,
            "flex_flow": null,
            "width": null,
            "min_width": null,
            "border": null,
            "align_items": null,
            "bottom": null,
            "_model_module": "@jupyter-widgets/base",
            "top": null,
            "grid_column": null,
            "overflow_y": null,
            "overflow_x": null,
            "grid_auto_flow": null,
            "grid_area": null,
            "grid_template_columns": null,
            "flex": null,
            "_model_name": "LayoutModel",
            "justify_items": null,
            "grid_row": null,
            "max_height": null,
            "align_content": null,
            "visibility": null,
            "align_self": null,
            "height": null,
            "min_height": null,
            "padding": null,
            "grid_auto_rows": null,
            "grid_gap": null,
            "max_width": null,
            "order": null,
            "_view_module_version": "1.2.0",
            "grid_template_areas": null,
            "object_position": null,
            "object_fit": null,
            "grid_auto_columns": null,
            "margin": null,
            "display": null,
            "left": null
          }
        },
        "d81ec782990a4f9796f5cd076047e1cb": {
          "model_module": "@jupyter-widgets/controls",
          "model_name": "HBoxModel",
          "state": {
            "_view_name": "HBoxView",
            "_dom_classes": [],
            "_model_name": "HBoxModel",
            "_view_module": "@jupyter-widgets/controls",
            "_model_module_version": "1.5.0",
            "_view_count": null,
            "_view_module_version": "1.5.0",
            "box_style": "",
            "layout": "IPY_MODEL_237c5317f8c649a7b919dafaf47cb78a",
            "_model_module": "@jupyter-widgets/controls",
            "children": [
              "IPY_MODEL_18f76d016f744cb1a1e59be54ca24906",
              "IPY_MODEL_e7bc5801eaaf46c29a4a71958474fe9a"
            ]
          }
        },
        "237c5317f8c649a7b919dafaf47cb78a": {
          "model_module": "@jupyter-widgets/base",
          "model_name": "LayoutModel",
          "state": {
            "_view_name": "LayoutView",
            "grid_template_rows": null,
            "right": null,
            "justify_content": null,
            "_view_module": "@jupyter-widgets/base",
            "overflow": null,
            "_model_module_version": "1.2.0",
            "_view_count": null,
            "flex_flow": null,
            "width": null,
            "min_width": null,
            "border": null,
            "align_items": null,
            "bottom": null,
            "_model_module": "@jupyter-widgets/base",
            "top": null,
            "grid_column": null,
            "overflow_y": null,
            "overflow_x": null,
            "grid_auto_flow": null,
            "grid_area": null,
            "grid_template_columns": null,
            "flex": null,
            "_model_name": "LayoutModel",
            "justify_items": null,
            "grid_row": null,
            "max_height": null,
            "align_content": null,
            "visibility": null,
            "align_self": null,
            "height": null,
            "min_height": null,
            "padding": null,
            "grid_auto_rows": null,
            "grid_gap": null,
            "max_width": null,
            "order": null,
            "_view_module_version": "1.2.0",
            "grid_template_areas": null,
            "object_position": null,
            "object_fit": null,
            "grid_auto_columns": null,
            "margin": null,
            "display": null,
            "left": null
          }
        },
        "18f76d016f744cb1a1e59be54ca24906": {
          "model_module": "@jupyter-widgets/controls",
          "model_name": "IntProgressModel",
          "state": {
            "_view_name": "ProgressView",
            "style": "IPY_MODEL_a533c1d8ee034ef9aaaf6e306162327e",
            "_dom_classes": [],
            "description": "epoch 1: 100%",
            "_model_name": "IntProgressModel",
            "bar_style": "success",
            "max": 403,
            "_view_module": "@jupyter-widgets/controls",
            "_model_module_version": "1.5.0",
            "value": 403,
            "_view_count": null,
            "_view_module_version": "1.5.0",
            "orientation": "horizontal",
            "min": 0,
            "description_tooltip": null,
            "_model_module": "@jupyter-widgets/controls",
            "layout": "IPY_MODEL_7db65b39be894f419f8fa1cd7145bb87"
          }
        },
        "e7bc5801eaaf46c29a4a71958474fe9a": {
          "model_module": "@jupyter-widgets/controls",
          "model_name": "HTMLModel",
          "state": {
            "_view_name": "HTMLView",
            "style": "IPY_MODEL_97c78757af27499ebc345c924e9c532c",
            "_dom_classes": [],
            "description": "",
            "_model_name": "HTMLModel",
            "placeholder": "​",
            "_view_module": "@jupyter-widgets/controls",
            "_model_module_version": "1.5.0",
            "value": " 403/403 [2:20:27&lt;00:00, 20.91s/it, loss=4.17374]",
            "_view_count": null,
            "_view_module_version": "1.5.0",
            "description_tooltip": null,
            "_model_module": "@jupyter-widgets/controls",
            "layout": "IPY_MODEL_15aa357ef1b8462b8111de3e93a0a9c7"
          }
        },
        "a533c1d8ee034ef9aaaf6e306162327e": {
          "model_module": "@jupyter-widgets/controls",
          "model_name": "ProgressStyleModel",
          "state": {
            "_view_name": "StyleView",
            "_model_name": "ProgressStyleModel",
            "description_width": "initial",
            "_view_module": "@jupyter-widgets/base",
            "_model_module_version": "1.5.0",
            "_view_count": null,
            "_view_module_version": "1.2.0",
            "bar_color": null,
            "_model_module": "@jupyter-widgets/controls"
          }
        },
        "7db65b39be894f419f8fa1cd7145bb87": {
          "model_module": "@jupyter-widgets/base",
          "model_name": "LayoutModel",
          "state": {
            "_view_name": "LayoutView",
            "grid_template_rows": null,
            "right": null,
            "justify_content": null,
            "_view_module": "@jupyter-widgets/base",
            "overflow": null,
            "_model_module_version": "1.2.0",
            "_view_count": null,
            "flex_flow": null,
            "width": null,
            "min_width": null,
            "border": null,
            "align_items": null,
            "bottom": null,
            "_model_module": "@jupyter-widgets/base",
            "top": null,
            "grid_column": null,
            "overflow_y": null,
            "overflow_x": null,
            "grid_auto_flow": null,
            "grid_area": null,
            "grid_template_columns": null,
            "flex": null,
            "_model_name": "LayoutModel",
            "justify_items": null,
            "grid_row": null,
            "max_height": null,
            "align_content": null,
            "visibility": null,
            "align_self": null,
            "height": null,
            "min_height": null,
            "padding": null,
            "grid_auto_rows": null,
            "grid_gap": null,
            "max_width": null,
            "order": null,
            "_view_module_version": "1.2.0",
            "grid_template_areas": null,
            "object_position": null,
            "object_fit": null,
            "grid_auto_columns": null,
            "margin": null,
            "display": null,
            "left": null
          }
        },
        "97c78757af27499ebc345c924e9c532c": {
          "model_module": "@jupyter-widgets/controls",
          "model_name": "DescriptionStyleModel",
          "state": {
            "_view_name": "StyleView",
            "_model_name": "DescriptionStyleModel",
            "description_width": "",
            "_view_module": "@jupyter-widgets/base",
            "_model_module_version": "1.5.0",
            "_view_count": null,
            "_view_module_version": "1.2.0",
            "_model_module": "@jupyter-widgets/controls"
          }
        },
        "15aa357ef1b8462b8111de3e93a0a9c7": {
          "model_module": "@jupyter-widgets/base",
          "model_name": "LayoutModel",
          "state": {
            "_view_name": "LayoutView",
            "grid_template_rows": null,
            "right": null,
            "justify_content": null,
            "_view_module": "@jupyter-widgets/base",
            "overflow": null,
            "_model_module_version": "1.2.0",
            "_view_count": null,
            "flex_flow": null,
            "width": null,
            "min_width": null,
            "border": null,
            "align_items": null,
            "bottom": null,
            "_model_module": "@jupyter-widgets/base",
            "top": null,
            "grid_column": null,
            "overflow_y": null,
            "overflow_x": null,
            "grid_auto_flow": null,
            "grid_area": null,
            "grid_template_columns": null,
            "flex": null,
            "_model_name": "LayoutModel",
            "justify_items": null,
            "grid_row": null,
            "max_height": null,
            "align_content": null,
            "visibility": null,
            "align_self": null,
            "height": null,
            "min_height": null,
            "padding": null,
            "grid_auto_rows": null,
            "grid_gap": null,
            "max_width": null,
            "order": null,
            "_view_module_version": "1.2.0",
            "grid_template_areas": null,
            "object_position": null,
            "object_fit": null,
            "grid_auto_columns": null,
            "margin": null,
            "display": null,
            "left": null
          }
        },
        "51fbb35536ae4eb89f6b555294f7a802": {
          "model_module": "@jupyter-widgets/controls",
          "model_name": "HBoxModel",
          "state": {
            "_view_name": "HBoxView",
            "_dom_classes": [],
            "_model_name": "HBoxModel",
            "_view_module": "@jupyter-widgets/controls",
            "_model_module_version": "1.5.0",
            "_view_count": null,
            "_view_module_version": "1.5.0",
            "box_style": "",
            "layout": "IPY_MODEL_1dcc14051c234edaaff77d0b5f685f33",
            "_model_module": "@jupyter-widgets/controls",
            "children": [
              "IPY_MODEL_eeb459d3daa74803922d66caa93e84b0",
              "IPY_MODEL_722d8a5db3eb42359ade10ac5e09c12b"
            ]
          }
        },
        "1dcc14051c234edaaff77d0b5f685f33": {
          "model_module": "@jupyter-widgets/base",
          "model_name": "LayoutModel",
          "state": {
            "_view_name": "LayoutView",
            "grid_template_rows": null,
            "right": null,
            "justify_content": null,
            "_view_module": "@jupyter-widgets/base",
            "overflow": null,
            "_model_module_version": "1.2.0",
            "_view_count": null,
            "flex_flow": null,
            "width": null,
            "min_width": null,
            "border": null,
            "align_items": null,
            "bottom": null,
            "_model_module": "@jupyter-widgets/base",
            "top": null,
            "grid_column": null,
            "overflow_y": null,
            "overflow_x": null,
            "grid_auto_flow": null,
            "grid_area": null,
            "grid_template_columns": null,
            "flex": null,
            "_model_name": "LayoutModel",
            "justify_items": null,
            "grid_row": null,
            "max_height": null,
            "align_content": null,
            "visibility": null,
            "align_self": null,
            "height": null,
            "min_height": null,
            "padding": null,
            "grid_auto_rows": null,
            "grid_gap": null,
            "max_width": null,
            "order": null,
            "_view_module_version": "1.2.0",
            "grid_template_areas": null,
            "object_position": null,
            "object_fit": null,
            "grid_auto_columns": null,
            "margin": null,
            "display": null,
            "left": null
          }
        },
        "eeb459d3daa74803922d66caa93e84b0": {
          "model_module": "@jupyter-widgets/controls",
          "model_name": "IntProgressModel",
          "state": {
            "_view_name": "ProgressView",
            "style": "IPY_MODEL_550979c3eb9449c3990b5b728e9a4f7c",
            "_dom_classes": [],
            "description": "epoch 2: 100%",
            "_model_name": "IntProgressModel",
            "bar_style": "success",
            "max": 403,
            "_view_module": "@jupyter-widgets/controls",
            "_model_module_version": "1.5.0",
            "value": 403,
            "_view_count": null,
            "_view_module_version": "1.5.0",
            "orientation": "horizontal",
            "min": 0,
            "description_tooltip": null,
            "_model_module": "@jupyter-widgets/controls",
            "layout": "IPY_MODEL_ad8a4ca0f56540bcb948d51b25fc0ddd"
          }
        },
        "722d8a5db3eb42359ade10ac5e09c12b": {
          "model_module": "@jupyter-widgets/controls",
          "model_name": "HTMLModel",
          "state": {
            "_view_name": "HTMLView",
            "style": "IPY_MODEL_ab7f8657622545f2b506d7b47199bcd3",
            "_dom_classes": [],
            "description": "",
            "_model_name": "HTMLModel",
            "placeholder": "​",
            "_view_module": "@jupyter-widgets/controls",
            "_model_module_version": "1.5.0",
            "value": " 403/403 [1:08:18&lt;00:00, 10.17s/it, loss=3.30279]",
            "_view_count": null,
            "_view_module_version": "1.5.0",
            "description_tooltip": null,
            "_model_module": "@jupyter-widgets/controls",
            "layout": "IPY_MODEL_63aa505b89f04d76961d27aa66f6110d"
          }
        },
        "550979c3eb9449c3990b5b728e9a4f7c": {
          "model_module": "@jupyter-widgets/controls",
          "model_name": "ProgressStyleModel",
          "state": {
            "_view_name": "StyleView",
            "_model_name": "ProgressStyleModel",
            "description_width": "initial",
            "_view_module": "@jupyter-widgets/base",
            "_model_module_version": "1.5.0",
            "_view_count": null,
            "_view_module_version": "1.2.0",
            "bar_color": null,
            "_model_module": "@jupyter-widgets/controls"
          }
        },
        "ad8a4ca0f56540bcb948d51b25fc0ddd": {
          "model_module": "@jupyter-widgets/base",
          "model_name": "LayoutModel",
          "state": {
            "_view_name": "LayoutView",
            "grid_template_rows": null,
            "right": null,
            "justify_content": null,
            "_view_module": "@jupyter-widgets/base",
            "overflow": null,
            "_model_module_version": "1.2.0",
            "_view_count": null,
            "flex_flow": null,
            "width": null,
            "min_width": null,
            "border": null,
            "align_items": null,
            "bottom": null,
            "_model_module": "@jupyter-widgets/base",
            "top": null,
            "grid_column": null,
            "overflow_y": null,
            "overflow_x": null,
            "grid_auto_flow": null,
            "grid_area": null,
            "grid_template_columns": null,
            "flex": null,
            "_model_name": "LayoutModel",
            "justify_items": null,
            "grid_row": null,
            "max_height": null,
            "align_content": null,
            "visibility": null,
            "align_self": null,
            "height": null,
            "min_height": null,
            "padding": null,
            "grid_auto_rows": null,
            "grid_gap": null,
            "max_width": null,
            "order": null,
            "_view_module_version": "1.2.0",
            "grid_template_areas": null,
            "object_position": null,
            "object_fit": null,
            "grid_auto_columns": null,
            "margin": null,
            "display": null,
            "left": null
          }
        },
        "ab7f8657622545f2b506d7b47199bcd3": {
          "model_module": "@jupyter-widgets/controls",
          "model_name": "DescriptionStyleModel",
          "state": {
            "_view_name": "StyleView",
            "_model_name": "DescriptionStyleModel",
            "description_width": "",
            "_view_module": "@jupyter-widgets/base",
            "_model_module_version": "1.5.0",
            "_view_count": null,
            "_view_module_version": "1.2.0",
            "_model_module": "@jupyter-widgets/controls"
          }
        },
        "63aa505b89f04d76961d27aa66f6110d": {
          "model_module": "@jupyter-widgets/base",
          "model_name": "LayoutModel",
          "state": {
            "_view_name": "LayoutView",
            "grid_template_rows": null,
            "right": null,
            "justify_content": null,
            "_view_module": "@jupyter-widgets/base",
            "overflow": null,
            "_model_module_version": "1.2.0",
            "_view_count": null,
            "flex_flow": null,
            "width": null,
            "min_width": null,
            "border": null,
            "align_items": null,
            "bottom": null,
            "_model_module": "@jupyter-widgets/base",
            "top": null,
            "grid_column": null,
            "overflow_y": null,
            "overflow_x": null,
            "grid_auto_flow": null,
            "grid_area": null,
            "grid_template_columns": null,
            "flex": null,
            "_model_name": "LayoutModel",
            "justify_items": null,
            "grid_row": null,
            "max_height": null,
            "align_content": null,
            "visibility": null,
            "align_self": null,
            "height": null,
            "min_height": null,
            "padding": null,
            "grid_auto_rows": null,
            "grid_gap": null,
            "max_width": null,
            "order": null,
            "_view_module_version": "1.2.0",
            "grid_template_areas": null,
            "object_position": null,
            "object_fit": null,
            "grid_auto_columns": null,
            "margin": null,
            "display": null,
            "left": null
          }
        }
      }
    }
  },
  "cells": [
    {
      "cell_type": "markdown",
      "metadata": {
        "id": "view-in-github",
        "colab_type": "text"
      },
      "source": [
        "<a href=\"https://colab.research.google.com/github/VictoriaRe/HSE-DataScience/blob/master/Assignment6.ipynb\" target=\"_parent\"><img src=\"https://colab.research.google.com/assets/colab-badge.svg\" alt=\"Open In Colab\"/></a>"
      ]
    },
    {
      "cell_type": "markdown",
      "metadata": {
        "id": "svhACbHQyPpN",
        "colab_type": "text"
      },
      "source": [
        "[3 points] Delelop language model, which generates texts from wikipedia. Use WikiText-2 dataset, also available in torchtext.datasets. Use sentencepiece or tokenizers library for text tokenization. Pay attention to vocab size, probably subword tokens are better.\n",
        "Your model should be autogressive RNN.\n",
        "\n",
        "[1 point] Plot train and validation loss depending on the number of iterations of gradient decent.\n",
        "\n",
        "[1 point] Try to use together (sentencepiece or tokenizers), torchtext.datasets, and torchtext.data.BPTTIterator\n",
        "Text generation should be terminated when either max length is reached or terminal symbol is generated. Explore several inference techniques:\n",
        "\n",
        "[1 point] Argmax\n",
        "\n",
        "[1 point] Beamsearch\n",
        "\n",
        "[1 point] Sampling from probabilty distribution with temperature\n",
        "\n",
        "[1 point] Nucleus sampling\n",
        "\n",
        "[1 point] Top-k sampling\n",
        "\n",
        "For every method you should provide implemented code and generated examples. Each example must contain at least 10 words (not subword tokens)."
      ]
    },
    {
      "cell_type": "code",
      "metadata": {
        "id": "ZlURYvs0yXfY",
        "colab_type": "code",
        "colab": {
          "base_uri": "https://localhost:8080/",
          "height": 191
        },
        "outputId": "7494e593-004d-4903-db9a-fdd0ee2ace08"
      },
      "source": [
        "!pip install tokenizers"
      ],
      "execution_count": 1,
      "outputs": [
        {
          "output_type": "stream",
          "text": [
            "Collecting tokenizers\n",
            "\u001b[?25l  Downloading https://files.pythonhosted.org/packages/73/de/ec55e2d5a8720557b25100dd7dd4a63108a44b6b303978ce2587666931cf/tokenizers-0.6.0-cp36-cp36m-manylinux1_x86_64.whl (3.8MB)\n",
            "\u001b[K     |████████████████████████████████| 3.8MB 2.8MB/s \n",
            "\u001b[?25hInstalling collected packages: tokenizers\n",
            "Successfully installed tokenizers-0.6.0\n"
          ],
          "name": "stdout"
        }
      ]
    },
    {
      "cell_type": "code",
      "metadata": {
        "id": "MwJPGmNyycoJ",
        "colab_type": "code",
        "colab": {}
      },
      "source": [
        "import numpy as np\n",
        "import pandas as pd\n",
        "import matplotlib.pyplot as plt\n",
        "import re\n",
        "from tqdm import tqdm_notebook\n",
        "\n",
        "import torch\n",
        "import torch.nn as nn\n",
        "import torch.optim as optim\n",
        "\n",
        "import torchtext\n",
        "from torchtext.datasets import LanguageModelingDataset\n",
        "\n",
        "from torchtext.data import BPTTIterator\n",
        "import torch as tt\n",
        "\n",
        "from torchtext.datasets import WikiText2\n",
        "from torchtext import data\n",
        "\n",
        "from tokenizers import SentencePieceBPETokenizer\n",
        "\n",
        "DEVICE = torch.device(\"cuda\" if torch.cuda.is_available() else \"cpu\")"
      ],
      "execution_count": 0,
      "outputs": []
    },
    {
      "cell_type": "code",
      "metadata": {
        "id": "QFVb4Z3hzD6j",
        "colab_type": "code",
        "colab": {
          "base_uri": "https://localhost:8080/",
          "height": 85
        },
        "outputId": "7ca9e5e0-5433-4c65-f79b-158f5b02a777"
      },
      "source": [
        "WikiText2.download(\"./data\")"
      ],
      "execution_count": 7,
      "outputs": [
        {
          "output_type": "stream",
          "text": [
            "downloading wikitext-2-v1.zip\n"
          ],
          "name": "stdout"
        },
        {
          "output_type": "stream",
          "text": [
            "wikitext-2-v1.zip: 100%|██████████| 4.48M/4.48M [00:00<00:00, 42.2MB/s]\n"
          ],
          "name": "stderr"
        },
        {
          "output_type": "stream",
          "text": [
            "extracting\n"
          ],
          "name": "stdout"
        },
        {
          "output_type": "execute_result",
          "data": {
            "text/plain": [
              "'./data/wikitext-2/wikitext-2'"
            ]
          },
          "metadata": {
            "tags": []
          },
          "execution_count": 7
        }
      ]
    },
    {
      "cell_type": "code",
      "metadata": {
        "id": "L8FNF8wYzIBF",
        "colab_type": "code",
        "colab": {}
      },
      "source": [
        "import os\n",
        "\n",
        "with open(os.path.join(\".\", \"data\", \"wikitext-2\", \"wikitext-2\", \"wiki.test.tokens\"), \"r\") as test_fd:\n",
        "    test = test_fd.read()"
      ],
      "execution_count": 0,
      "outputs": []
    },
    {
      "cell_type": "code",
      "metadata": {
        "id": "fBvGCAuXzlbu",
        "colab_type": "code",
        "colab": {}
      },
      "source": [
        "with open(os.path.join(\".\", \"data\", \"wikitext-2\", \"wikitext-2\", \"wiki.train.tokens\"), \"r\") as train_fd:\n",
        "    train = train_fd.read()"
      ],
      "execution_count": 0,
      "outputs": []
    },
    {
      "cell_type": "code",
      "metadata": {
        "id": "cQd-IyzgzuAO",
        "colab_type": "code",
        "colab": {}
      },
      "source": [
        "with open(os.path.join(\".\", \"data\", \"wikitext-2\", \"wikitext-2\", \"wiki.valid.tokens\"), \"r\") as valid_fd:\n",
        "    valid = valid_fd.read()"
      ],
      "execution_count": 0,
      "outputs": []
    },
    {
      "cell_type": "code",
      "metadata": {
        "id": "z5pnZX9uzwaQ",
        "colab_type": "code",
        "colab": {
          "base_uri": "https://localhost:8080/",
          "height": 34
        },
        "outputId": "a401350a-78bd-4efe-d4f8-5b83f4627c74"
      },
      "source": [
        "len(test)"
      ],
      "execution_count": 12,
      "outputs": [
        {
          "output_type": "execute_result",
          "data": {
            "text/plain": [
              "1255018"
            ]
          },
          "metadata": {
            "tags": []
          },
          "execution_count": 12
        }
      ]
    },
    {
      "cell_type": "code",
      "metadata": {
        "id": "TSSnPdf9zyD2",
        "colab_type": "code",
        "colab": {
          "base_uri": "https://localhost:8080/",
          "height": 34
        },
        "outputId": "df6b217a-0448-4872-9a2e-ceb5da47b840"
      },
      "source": [
        "len(train)"
      ],
      "execution_count": 13,
      "outputs": [
        {
          "output_type": "execute_result",
          "data": {
            "text/plain": [
              "10780437"
            ]
          },
          "metadata": {
            "tags": []
          },
          "execution_count": 13
        }
      ]
    },
    {
      "cell_type": "code",
      "metadata": {
        "id": "tVy0cJAKzzDj",
        "colab_type": "code",
        "colab": {
          "base_uri": "https://localhost:8080/",
          "height": 34
        },
        "outputId": "fbc2a50f-8e7b-4897-bf9c-9bcba47fd6e8"
      },
      "source": [
        "len(valid)"
      ],
      "execution_count": 14,
      "outputs": [
        {
          "output_type": "execute_result",
          "data": {
            "text/plain": [
              "1120192"
            ]
          },
          "metadata": {
            "tags": []
          },
          "execution_count": 14
        }
      ]
    },
    {
      "cell_type": "code",
      "metadata": {
        "id": "kL_K7D3xz0rA",
        "colab_type": "code",
        "colab": {}
      },
      "source": [
        "def extra_del(text):\n",
        "    text = re.sub(r'\\n', ' ', text)\n",
        "    text = re.sub(r'&[a-z]{0,7};', ' ', text)\n",
        "    text = re.sub(r'\\s{2,10}', ' ', text)\n",
        "    text = re.sub(r'\\s{2,10}', ' ', text)\n",
        "    text = re.sub(r'\\\\\\\\x\\d{1,4}', '', text)\n",
        "    text = re.sub(r'=\\s.{3,15}=\\s', '', text)\n",
        "    text = re.sub(r'\\s@', ' ', text)\n",
        "    text = re.sub(r'@\\s', ' ', text)\n",
        "    return text"
      ],
      "execution_count": 0,
      "outputs": []
    },
    {
      "cell_type": "code",
      "metadata": {
        "id": "bva9zlbVz_Hz",
        "colab_type": "code",
        "colab": {}
      },
      "source": [
        "def special_tokens(text):\n",
        "    eos = [' .', ' !', ' ?', ' ? !', ' \\'n']\n",
        "    eos_token = '<eos> <sos>'\n",
        "    for element in eos:\n",
        "        text = text.replace(element, ' ' + eos_token + ' ')\n",
        "    text = re.sub(r'<sos>\\s{2,10}<eos>', ' ', text)\n",
        "    while '  ' in text:\n",
        "        text = re.sub(r'\\s{2,10}', ' ', text)\n",
        "    text = '<sos> ' + text\n",
        "    return text.lower()"
      ],
      "execution_count": 0,
      "outputs": []
    },
    {
      "cell_type": "code",
      "metadata": {
        "id": "fcpYW6B20BTD",
        "colab_type": "code",
        "colab": {}
      },
      "source": [
        "def prep (text):\n",
        "  clean = extra_del(text)\n",
        "  fin = special_tokens(clean)\n",
        "  return fin"
      ],
      "execution_count": 0,
      "outputs": []
    },
    {
      "cell_type": "code",
      "metadata": {
        "id": "rpFF-weu0DTt",
        "colab_type": "code",
        "colab": {}
      },
      "source": [
        "train_prep = prep(train)"
      ],
      "execution_count": 0,
      "outputs": []
    },
    {
      "cell_type": "code",
      "metadata": {
        "id": "_nLygL8V0E1I",
        "colab_type": "code",
        "colab": {}
      },
      "source": [
        "test_prep = prep(test)"
      ],
      "execution_count": 0,
      "outputs": []
    },
    {
      "cell_type": "code",
      "metadata": {
        "id": "ehN4N6oc0LAC",
        "colab_type": "code",
        "colab": {}
      },
      "source": [
        "valid_prep = prep(valid)"
      ],
      "execution_count": 0,
      "outputs": []
    },
    {
      "cell_type": "code",
      "metadata": {
        "id": "50y2iekn0OZ-",
        "colab_type": "code",
        "colab": {}
      },
      "source": [
        "with open(os.path.join(\".\", \"data\", \"train_prep.tokens\"), \"w\", encoding=\"UTF-8\") as clean_fd:\n",
        "    clean_fd.write(train_prep)\n",
        "\n",
        "with open(os.path.join(\".\", \"data\", \"test_prep.tokens\"), \"w\", encoding=\"UTF-8\") as clean_fd:\n",
        "    clean_fd.write(test_prep)"
      ],
      "execution_count": 0,
      "outputs": []
    },
    {
      "cell_type": "code",
      "metadata": {
        "id": "njy-kAls0Ubr",
        "colab_type": "code",
        "colab": {}
      },
      "source": [
        "train_tokenizer = SentencePieceBPETokenizer()\n",
        "train_tokenizer.add_special_tokens([\"<eos>\", \"<unk>\", \"<sos>\"])\n",
        "train_tokenizer.train([os.path.join(\".\", \"data\", \"train_prep.tokens\"), os.path.join(\".\", \"data\", \"test_prep.tokens\")], vocab_size=20000)"
      ],
      "execution_count": 0,
      "outputs": []
    },
    {
      "cell_type": "code",
      "metadata": {
        "id": "sHp3Vdtu0bl9",
        "colab_type": "code",
        "colab": {
          "base_uri": "https://localhost:8080/",
          "height": 68
        },
        "outputId": "f38d80e7-73e5-48fa-d96a-32671d7db33a"
      },
      "source": [
        "print(prep(\"All you have to do is to be ready for some action now\"))\n",
        "out = train_tokenizer.encode(prep(\"All you have to do is to be ready for some action now\"))\n",
        "print(out.ids)\n",
        "print(out.tokens)"
      ],
      "execution_count": 26,
      "outputs": [
        {
          "output_type": "stream",
          "text": [
            "<sos> all you have to do is to be ready for some action now\n",
            "[2, 489, 1051, 513, 277, 759, 334, 277, 296, 6989, 306, 649, 2128, 1188]\n",
            "['<sos>', '▁all', '▁you', '▁have', '▁to', '▁do', '▁is', '▁to', '▁be', '▁ready', '▁for', '▁some', '▁action', '▁now']\n"
          ],
          "name": "stdout"
        }
      ]
    },
    {
      "cell_type": "code",
      "metadata": {
        "id": "96wbBL4i0e9i",
        "colab_type": "code",
        "colab": {}
      },
      "source": [
        "def tokenize(sent):\n",
        "    sent = prep(sent)\n",
        "    return train_tokenizer.encode(sent).tokens"
      ],
      "execution_count": 0,
      "outputs": []
    },
    {
      "cell_type": "code",
      "metadata": {
        "id": "38oMYZbP0iFU",
        "colab_type": "code",
        "colab": {}
      },
      "source": [
        "TXT = torchtext.data.Field(lower=True, include_lengths=False, batch_first=False, \n",
        "                           tokenize=lambda sent: tokenize(sent))"
      ],
      "execution_count": 0,
      "outputs": []
    },
    {
      "cell_type": "code",
      "metadata": {
        "id": "tDSV0Kes0j5H",
        "colab_type": "code",
        "colab": {
          "base_uri": "https://localhost:8080/",
          "height": 68
        },
        "outputId": "8b91234e-cfc2-4479-d755-c1322837b254"
      },
      "source": [
        "train_data, val_data, test_data = WikiText2.splits(TXT)"
      ],
      "execution_count": 29,
      "outputs": [
        {
          "output_type": "stream",
          "text": [
            "\rwikitext-2-v1.zip:   0%|          | 0.00/4.48M [00:00<?, ?B/s]"
          ],
          "name": "stderr"
        },
        {
          "output_type": "stream",
          "text": [
            "downloading wikitext-2-v1.zip\n"
          ],
          "name": "stdout"
        },
        {
          "output_type": "stream",
          "text": [
            "wikitext-2-v1.zip: 100%|██████████| 4.48M/4.48M [00:00<00:00, 40.7MB/s]\n"
          ],
          "name": "stderr"
        },
        {
          "output_type": "stream",
          "text": [
            "extracting\n"
          ],
          "name": "stdout"
        }
      ]
    },
    {
      "cell_type": "code",
      "metadata": {
        "id": "0HMKiVjk0mOb",
        "colab_type": "code",
        "colab": {}
      },
      "source": [
        "TXT.build_vocab(train_data, val_data, test_data, min_freq=5)\n",
        "\n",
        "train_iter, val_iter, test_iter = BPTTIterator.splits((train_data, val_data, test_data),\n",
        "            batch_size=128, bptt_len=50, repeat=False, device = DEVICE)"
      ],
      "execution_count": 0,
      "outputs": []
    },
    {
      "cell_type": "code",
      "metadata": {
        "id": "8d01AWf-0qM5",
        "colab_type": "code",
        "colab": {}
      },
      "source": [
        "b = next(iter(train_iter))"
      ],
      "execution_count": 0,
      "outputs": []
    },
    {
      "cell_type": "code",
      "metadata": {
        "id": "6Pp0zhcZ0w11",
        "colab_type": "code",
        "colab": {
          "base_uri": "https://localhost:8080/",
          "height": 71
        },
        "outputId": "48f8c526-08a0-4784-f6b8-c0a5181a07af"
      },
      "source": [
        "def recover_text(vector):\n",
        "    return [TXT.vocab.itos[v] for v in vector[0]]\n",
        "\n",
        "print(recover_text(b.text.data.squeeze()))\n",
        "\n",
        "print(recover_text(b.target.data.squeeze()))"
      ],
      "execution_count": 33,
      "outputs": [
        {
          "output_type": "stream",
          "text": [
            "['<sos>', '▁proceeded', '<sos>', '▁', '▁down', '▁and', '▁judgment', '▁organizations', '▁fitted', '▁intermitt', '▁the', '▁the', '▁he', '▁is', '▁are', '▁in', '▁beyond', '▁', '▁cbs', '▁,', '<sos>', '▁and', '▁show', '▁caught', '▁', '<sos>', '▁', '▁new', '▁known', '▁he', '2', 'd', '<sos>', '▁mar', '▁the', '▁the', '▁ulysses', '▁8', '▁parodies', '▁the', '▁human', '▁', '▁consoles', '▁of', '▁asserted', '▁the', '▁', '▁won', '▁pract', '▁the', '▁lad', '▁act', '▁of', '▁21', '<sos>', '<sos>', '▁=', '<sos>', '▁', '▁winning', '▁league', '▁camps', '▁contains', '<sos>', '▁as', '▁releases', '▁,', '▁became', '▁urging', '▁desperate', '▁born', '▁modified', '▁role', '▁from', '<eos>', '▁song', '▁september', '▁about', '▁have', '<sos>', '▁sean', '<eos>', '▁', '<eos>', 'ually', '▁his', '▁researchers', '▁in', '▁with', '▁allowed', '▁in', '▁and', '▁used', '▁,', '▁significant', '▁\"', 'ched', '<eos>', '▁in', '▁although', '▁15', '▁', '▁percussion', '▁than', '▁emperor', '▁biology', '▁cbs', '<unk>', '▁mm', '▁', '<eos>', '▁baby', '▁with', '<eos>', '▁as', '▁the', '<eos>', '▁wii', '▁travell', '▁cabinet', '▁or', '▁', '▁material', \"▁'s\", '▁support', '▁the', '▁release', '▁,']\n",
            "['▁', '▁to', '▁myths', '<eos>', 't', '▁turned', '▁to', '▁were', '▁as', 'ent', '▁way', '▁site', '▁saw', '▁located', '▁fed', '▁“', '▁chutzpah', '<eos>', '▁studios', '▁but', '▁\"', '▁released', \"▁'s\", '▁up', '<eos>', '▁', '▁the', '▁two', '▁as', '▁plays', '▁guns', 'at', '▁the', 'ion', '▁gorilla', '▁influence', '▁would', '▁°', '▁are', '▁same', '▁life', '<eos>', '▁', '▁jerusalem', '▁,', '▁novel', '<sos>', '▁a', 'ised', '▁prosecution', '▁later', '▁', '▁jesus', '▁june', '▁degrom', '▁the', '▁=', '▁shakespeare', '▁', '▁all', '▁with', '▁at', '▁perhaps', '▁england', '▁amph', '▁', '▁moved', '▁president', '▁the', '▁to', '▁in', '▁them', '▁in', '▁simply', '▁', '▁is', '▁29', '▁two', '▁resulted', '▁the', '▁penn', '<sos>', '▁to', '▁', '▁beneficial', '▁inability', '▁who', '▁new', '▁what', '▁to', '▁the', '▁approached', '▁as', '▁managing', '▁settlement', '▁having', '▁between', '▁', '▁townsville', '▁they', '▁,', '<eos>', '▁loop', '▁the', '▁sh', '▁and', '▁and', '▁it', '▁)', '<unk>', '▁', '▁700', '▁them', '▁', '▁the', '▁next', '▁', '▁and', 'er', '▁decision', '▁separated', '<unk>', '▁to', '▁portrait', '▁from', '▁world', '▁of', '▁as']\n"
          ],
          "name": "stdout"
        }
      ]
    },
    {
      "cell_type": "code",
      "metadata": {
        "id": "qH12Tv_601Xi",
        "colab_type": "code",
        "colab": {}
      },
      "source": [
        "import torch.nn as nn\n",
        "import torch as tt\n",
        "\n",
        "class AutoRegressive(nn.Module):\n",
        "    \n",
        "    def __init__(self, vocab_size, embed_size, hidden_size):\n",
        "        super(AutoRegressive, self).__init__()\n",
        "        self.embedding = nn.Embedding(vocab_size, embed_size)\n",
        "        \n",
        "        self.rnn = nn.LSTM(input_size=embed_size,\n",
        "                           hidden_size=hidden_size,\n",
        "                           bidirectional=True,\n",
        "                           batch_first=True,\n",
        "                          )\n",
        "        \n",
        "        self.fc = nn.Linear(hidden_size * 2, vocab_size)\n",
        "        \n",
        "        self.init_weights()\n",
        "        \n",
        "    def init_weights(self):\n",
        "        nn.init.uniform_(self.embedding.weight)\n",
        "        nn.init.xavier_uniform_(self.fc.weight)\n",
        "        nn.init.zeros_(self.fc.bias)\n",
        "        \n",
        "    def forward(self, batch):\n",
        "        \n",
        "        x = batch.text.T if hasattr(batch, \"text\") else batch\n",
        "        x = self.embedding(x)\n",
        "        x, _ = self.rnn(x)\n",
        "        x = self.fc(x)\n",
        "        \n",
        "        return x.transpose(1,2)"
      ],
      "execution_count": 0,
      "outputs": []
    },
    {
      "cell_type": "code",
      "metadata": {
        "id": "JtaZVnpF04aL",
        "colab_type": "code",
        "colab": {}
      },
      "source": [
        "import torch.optim as optim\n",
        "\n",
        "model = AutoRegressive(len(TXT.vocab.itos),\n",
        "                embed_size=100,\n",
        "                hidden_size=128,\n",
        "               )\n",
        "\n",
        "optimizer = optim.Adam(model.parameters())\n",
        "scheduler = optim.lr_scheduler.CosineAnnealingLR(optimizer, T_max=5)\n",
        "criterion = nn.CrossEntropyLoss(ignore_index=0)"
      ],
      "execution_count": 0,
      "outputs": []
    },
    {
      "cell_type": "code",
      "metadata": {
        "id": "GlkGvOXb06SO",
        "colab_type": "code",
        "colab": {}
      },
      "source": [
        "import numpy as np\n",
        "\n",
        "def _train_epoch(model, iterator, optimizer, criterion, curr_epoch):\n",
        "\n",
        "    model.train()\n",
        "\n",
        "    running_loss = 0\n",
        "\n",
        "    n_batches = len(iterator)\n",
        "    iterator = tqdm_notebook(iterator, total=n_batches, desc='epoch %d' % (curr_epoch), leave=True)\n",
        "\n",
        "    for i, batch in enumerate(iterator):\n",
        "        optimizer.zero_grad()\n",
        "\n",
        "        pred = model(batch)\n",
        "      \n",
        "        loss = criterion(pred, batch.target.T)\n",
        "        loss.backward()\n",
        "        optimizer.step()\n",
        "\n",
        "        curr_loss = loss.data.cpu().detach().item()\n",
        "        \n",
        "        loss_smoothing = i / (i + 1)\n",
        "        running_loss = loss_smoothing * running_loss + (1 - loss_smoothing) * curr_loss\n",
        "\n",
        "        iterator.set_postfix(loss='%.5f' % running_loss)\n",
        "\n",
        "    return running_loss"
      ],
      "execution_count": 0,
      "outputs": []
    },
    {
      "cell_type": "code",
      "metadata": {
        "id": "bQyCOr8-08cZ",
        "colab_type": "code",
        "colab": {}
      },
      "source": [
        "def _test_epoch(model, iterator, criterion):\n",
        "    model.eval()\n",
        "    epoch_loss = 0\n",
        "\n",
        "    n_batches = len(iterator)\n",
        "    with tt.no_grad():\n",
        "        for batch in iterator:\n",
        "            pred = model(batch)\n",
        "            loss = criterion(pred, batch.target.T)\n",
        "            epoch_loss += loss.data.item()\n",
        "\n",
        "    return epoch_loss / n_batches"
      ],
      "execution_count": 0,
      "outputs": []
    },
    {
      "cell_type": "code",
      "metadata": {
        "id": "rLz-0WtL0-Ko",
        "colab_type": "code",
        "colab": {}
      },
      "source": [
        "def nn_train(model, train_iterator, valid_iterator, criterion, optimizer, n_epochs=100,\n",
        "          scheduler=None, early_stopping=0):\n",
        "  \n",
        "    model = model\n",
        "    criterion = criterion\n",
        "\n",
        "    prev_loss = 100500\n",
        "    es_epochs = 0\n",
        "    best_epoch = None\n",
        "    history = pd.DataFrame()\n",
        "\n",
        "    for epoch in range(n_epochs):\n",
        "        train_loss = _train_epoch(model, train_iterator, optimizer, criterion, epoch)\n",
        "        valid_loss = _test_epoch(model, valid_iterator, criterion)\n",
        "\n",
        "        valid_loss = valid_loss\n",
        "        print('epoch %d, validation loss %.5f' % (epoch, valid_loss))\n",
        "        record = {'epoch': epoch, 'train_loss': train_loss, 'valid_loss': valid_loss}\n",
        "        history = history.append(record, ignore_index=True)\n",
        "\n",
        "        if early_stopping > 0:\n",
        "            if valid_loss > prev_loss:\n",
        "                es_epochs += 1\n",
        "            else:\n",
        "                es_epochs = 0\n",
        "\n",
        "            if es_epochs >= early_stopping:\n",
        "                best_epoch = history[history.valid_loss == history.valid_loss.min()].iloc[0]\n",
        "                print('Early stopping! best epoch: %d val %.5f' % (best_epoch['epoch'], best_epoch['valid_loss']))\n",
        "                break\n",
        "\n",
        "            prev_loss = min(prev_loss, valid_loss)\n",
        "    return history"
      ],
      "execution_count": 0,
      "outputs": []
    },
    {
      "cell_type": "code",
      "metadata": {
        "id": "13OwNkdu1NBh",
        "colab_type": "code",
        "colab": {
          "base_uri": "https://localhost:8080/",
          "height": 266,
          "referenced_widgets": [
            "a43a54687f2b4f81a4fe2b31daef7502",
            "b60c53802b2143f79b7b6f869b0a3acb",
            "985811556f1146ac8b9f325fa1fff325",
            "b563c6a2b56f44879f45a77e57de4087",
            "536104e3e9b14649b30eca877b4e19a1",
            "363c6c2164f84d64b31dd68e088ed468",
            "ecc18cf8b0bd47d3b222917fd493cce4",
            "69bdbee22bd74fa2959842124bc4c3f8",
            "d81ec782990a4f9796f5cd076047e1cb",
            "237c5317f8c649a7b919dafaf47cb78a",
            "18f76d016f744cb1a1e59be54ca24906",
            "e7bc5801eaaf46c29a4a71958474fe9a",
            "a533c1d8ee034ef9aaaf6e306162327e",
            "7db65b39be894f419f8fa1cd7145bb87",
            "97c78757af27499ebc345c924e9c532c",
            "15aa357ef1b8462b8111de3e93a0a9c7",
            "51fbb35536ae4eb89f6b555294f7a802",
            "1dcc14051c234edaaff77d0b5f685f33",
            "eeb459d3daa74803922d66caa93e84b0",
            "722d8a5db3eb42359ade10ac5e09c12b",
            "550979c3eb9449c3990b5b728e9a4f7c",
            "ad8a4ca0f56540bcb948d51b25fc0ddd",
            "ab7f8657622545f2b506d7b47199bcd3",
            "63aa505b89f04d76961d27aa66f6110d"
          ]
        },
        "outputId": "dda4f00e-85a2-4767-a207-f12e0e7662ca"
      },
      "source": [
        "history = nn_train(model, train_iter, val_iter, criterion, optimizer, scheduler=scheduler, \n",
        "        n_epochs = 3, early_stopping = 1)"
      ],
      "execution_count": 45,
      "outputs": [
        {
          "output_type": "stream",
          "text": [
            "/usr/local/lib/python3.6/dist-packages/ipykernel_launcher.py:10: TqdmDeprecationWarning: This function will be removed in tqdm==5.0.0\n",
            "Please use `tqdm.notebook.tqdm` instead of `tqdm.tqdm_notebook`\n",
            "  # Remove the CWD from sys.path while we load stuff.\n"
          ],
          "name": "stderr"
        },
        {
          "output_type": "display_data",
          "data": {
            "application/vnd.jupyter.widget-view+json": {
              "model_id": "a43a54687f2b4f81a4fe2b31daef7502",
              "version_minor": 0,
              "version_major": 2
            },
            "text/plain": [
              "HBox(children=(IntProgress(value=0, description='epoch 0', max=403, style=ProgressStyle(description_width='ini…"
            ]
          },
          "metadata": {
            "tags": []
          }
        },
        {
          "output_type": "stream",
          "text": [
            "\n",
            "epoch 0, validation loss 4.56306\n"
          ],
          "name": "stdout"
        },
        {
          "output_type": "display_data",
          "data": {
            "application/vnd.jupyter.widget-view+json": {
              "model_id": "d81ec782990a4f9796f5cd076047e1cb",
              "version_minor": 0,
              "version_major": 2
            },
            "text/plain": [
              "HBox(children=(IntProgress(value=0, description='epoch 1', max=403, style=ProgressStyle(description_width='ini…"
            ]
          },
          "metadata": {
            "tags": []
          }
        },
        {
          "output_type": "stream",
          "text": [
            "\n",
            "epoch 1, validation loss 3.46687\n"
          ],
          "name": "stdout"
        },
        {
          "output_type": "display_data",
          "data": {
            "application/vnd.jupyter.widget-view+json": {
              "model_id": "51fbb35536ae4eb89f6b555294f7a802",
              "version_minor": 0,
              "version_major": 2
            },
            "text/plain": [
              "HBox(children=(IntProgress(value=0, description='epoch 2', max=403, style=ProgressStyle(description_width='ini…"
            ]
          },
          "metadata": {
            "tags": []
          }
        },
        {
          "output_type": "stream",
          "text": [
            "\n",
            "epoch 2, validation loss 2.78396\n"
          ],
          "name": "stdout"
        }
      ]
    },
    {
      "cell_type": "code",
      "metadata": {
        "id": "QCoVUPJm1RUp",
        "colab_type": "code",
        "colab": {
          "base_uri": "https://localhost:8080/",
          "height": 295
        },
        "outputId": "e380a89d-a682-4dad-ac9a-9ceb3ef56b26"
      },
      "source": [
        "plt.title('Лоссы на трейне')\n",
        "\n",
        "plt.plot(list(history[\"train_loss\"]))\n",
        "plt.plot(list(history[\"valid_loss\"]))\n",
        "plt.legend(('train', 'valid'))\n",
        "plt.xlabel('Epoch')\n",
        "plt.ylabel('Loss')\n",
        "plt.show()"
      ],
      "execution_count": 46,
      "outputs": [
        {
          "output_type": "display_data",
          "data": {
            "image/png": "[encoded data removed]",
            "text/plain": [
              "<Figure size 432x288 with 1 Axes>"
            ]
          },
          "metadata": {
            "tags": []
          }
        }
      ]
    },
    {
      "cell_type": "code",
      "metadata": {
        "id": "wN8XJQ0a6Lou",
        "colab_type": "code",
        "colab": {}
      },
      "source": [
        "def back2text(vector):\n",
        "    return [train_tokenizer.id_to_token(idx) for idx in vector]"
      ],
      "execution_count": 0,
      "outputs": []
    },
    {
      "cell_type": "code",
      "metadata": {
        "id": "lnqhR3RW6O20",
        "colab_type": "code",
        "colab": {}
      },
      "source": [
        "def predict(model, func):\n",
        "    seq_max_len = 80\n",
        "    with tt.no_grad():\n",
        "        current_token = train_tokenizer.token_to_id(\"<sos>\")\n",
        "        seq = [current_token]\n",
        "        seq_len = 0\n",
        "        while seq_len < seq_max_len and current_token != train_tokenizer.token_to_id(\"<eos>\"):\n",
        "            pred = model(tt.tensor([seq]))[:,:,-1]\n",
        "            current_token = func(pred)\n",
        "            seq.append(current_token)\n",
        "            seq_len += 1\n",
        "    return seq"
      ],
      "execution_count": 0,
      "outputs": []
    },
    {
      "cell_type": "code",
      "metadata": {
        "id": "bBrmBLkHlnLn",
        "colab_type": "code",
        "colab": {
          "base_uri": "https://localhost:8080/",
          "height": 94
        },
        "outputId": "d3b2a120-09be-42c1-9e43-bca18a8a36e0"
      },
      "source": [
        "argmax_func = lambda pred: tt.argmax(pred).item()\n",
        "\n",
        "out = predict(model, argmax_func)\n",
        "print(back2text(out))"
      ],
      "execution_count": 55,
      "outputs": [
        {
          "output_type": "stream",
          "text": [
            "['<sos>', '%', '<sos>', '&', '<sos>', '%', '<sos>', '&', '<sos>', '%', '<sos>', '&', '<sos>', '%', '<sos>', '&', '<sos>', '%', '<sos>', '&', '<sos>', '%', '<sos>', '&', '<sos>', '%', '<sos>', '&', '<sos>', '%', '<sos>', '&', '<sos>', '%', '<sos>', '&', '<sos>', '%', '<sos>', '&', '<sos>', '%', '<sos>', '&', '<sos>', '%', '<sos>', '&', '<sos>', '%', '<sos>', '&', '<sos>', '%', '<sos>', '&', '<sos>', '%', '<sos>', '&', '<sos>', '%', '<sos>', '&', '<sos>', '%', '<sos>', '&', '<sos>', '%', '<sos>', '&', '<sos>', '%', '<sos>', '&', '<sos>', '%', '<sos>', '&', '<sos>']\n"
          ],
          "name": "stdout"
        }
      ]
    },
    {
      "cell_type": "code",
      "metadata": {
        "id": "NU0VmV5VoSi0",
        "colab_type": "code",
        "colab": {}
      },
      "source": [
        "def sampling_prob_dist_tempr(pred):\n",
        "    temp = 0.8\n",
        "    tau_logits = tt.exp(pred / temp) / tt.sum(tt.exp(pred / temp))\n",
        "    probs = tau_logits.squeeze().numpy() / np.sum(tau_logits.squeeze().numpy())\n",
        "    return np.random.choice(len(probs), 1, p=probs)[0]"
      ],
      "execution_count": 0,
      "outputs": []
    },
    {
      "cell_type": "code",
      "metadata": {
        "id": "rHTV-_huofN7",
        "colab_type": "code",
        "colab": {
          "base_uri": "https://localhost:8080/",
          "height": 94
        },
        "outputId": "9b4512bc-d70b-4fb7-8dd9-96158d272d9b"
      },
      "source": [
        "out = predict(model, sampling_prob_dist_tempr)\n",
        "print(back2text(out))"
      ],
      "execution_count": 58,
      "outputs": [
        {
          "output_type": "stream",
          "text": [
            "['<sos>', '%', '&', '<sos>', 'í', '+', '[', '▁be', '<sos>', '%', '<sos>', '&', '<sos>', '%', '<sos>', '&', '▁fer', ',', '▁stated', '<sos>', '%', '<sos>', '&', ',', '▁maint', \"'\", '6', 'r', '▁bor', '+', '▁primarily', '4', '▁gay', '<sos>', '%', '<sos>', '&', '▁technical', '▁flag', '<sos>', '%', '&', '<sos>', '▁abuse', '<sos>', '%', '<sos>', '&', '<sos>', '%', '&', '<sos>', '<sos>', '%', '<sos>', '&', 'ic', 'pos', 'ò', '<sos>', '%', '<sos>', '&', '<sos>', '<sos>', '%', '&', '<sos>', ')', '$', '▁num', 'ream', '<sos>', '*', '$', '▁rhode', ')', '<sos>', '%', '&', '<sos>']\n"
          ],
          "name": "stdout"
        }
      ]
    },
    {
      "cell_type": "code",
      "metadata": {
        "id": "CQOVuS3spEYc",
        "colab_type": "code",
        "colab": {}
      },
      "source": [
        "import torch.nn.functional as F"
      ],
      "execution_count": 0,
      "outputs": []
    },
    {
      "cell_type": "code",
      "metadata": {
        "id": "O5L9x2X_oiIi",
        "colab_type": "code",
        "colab": {}
      },
      "source": [
        "def top_k(pred):\n",
        "\n",
        "    top_k = 7000\n",
        "    indices_to_remove = pred < tt.topk(pred, top_k)[0][..., -1, None]\n",
        "    pred[indices_to_remove] = -float('Inf')\n",
        "    probs = F.softmax(pred, dim=-1)\n",
        "    p = tt.multinomial(probs, num_samples=1)\n",
        "\n",
        "    return p"
      ],
      "execution_count": 0,
      "outputs": []
    },
    {
      "cell_type": "code",
      "metadata": {
        "id": "D88HURVqo6QQ",
        "colab_type": "code",
        "colab": {
          "base_uri": "https://localhost:8080/",
          "height": 94
        },
        "outputId": "9ed706ac-0b37-4636-c126-6d4c453b1f6a"
      },
      "source": [
        "out = predict(model, top_k)\n",
        "print(back2text(out))"
      ],
      "execution_count": 65,
      "outputs": [
        {
          "output_type": "stream",
          "text": [
            "['<sos>', '%', '<sos>', '▁perman', '.', '▁composer', '\\\\', '▁can', 'ators', '<sos>', '%', 'ized', '▁receiving', 'teries', 'r', 'aster', 'ch', '▁leaving', 'rup', '▁architect', '჻', '(', '▁played', '▁description', '(', '7', '▁155', ')', ')', 'atisf', '<sos>', '%', '<sos>', '&', 'c', '▁counter', '▁own', ';', '▁mom', \"'\", '▁invest', '<sos>', '<sos>', '▁milit', ')', '▁extra', '▁barbar', '\\\\', '▁imm', '▁others', '*', 'ivation', 'ó', '▁196', '▁supply', \"'\", \"'\", '▁kansas', '×', '▁196', 'os>', '▁59', '▁tre', '▁branch', '$', '▁executive', '<', ',', '▁left', 'ト', '<sos>', '%', '&', '▁196', '▁nomin', '$', '▁stated', '▁goldberg', '(', ',', '▁arg']\n"
          ],
          "name": "stdout"
        }
      ]
    },
    {
      "cell_type": "markdown",
      "metadata": {
        "id": "JcOYhVotpqHP",
        "colab_type": "text"
      },
      "source": [
        "Реализация beam search из дз1"
      ]
    },
    {
      "cell_type": "code",
      "metadata": {
        "id": "32zqHwWkpCyK",
        "colab_type": "code",
        "colab": {}
      },
      "source": [
        "def beam_search(model, src, src_mask, max_len=20, k=5, offset=0):\n",
        "    memory = model.encode(src, src_mask)\n",
        "    start_token = TGT.vocab.stoi[\"<s>\"]\n",
        "    end_token = TGT.vocab.stoi[\"</s>\"]\n",
        "    ys = torch.ones(1, 1).fill_(start_token).type_as(src.data)\n",
        "    \n",
        "    beam = [(ys, 0)]\n",
        "    for i in range(max_len):\n",
        "        candidates= []\n",
        "        candidates_proba = []\n",
        "        for snt, snt_proba in beam:\n",
        "            if snt[0][-1] == end_token:\n",
        "                candidates.append(snt)\n",
        "                candidates_proba.append(snt_proba)\n",
        "            else:\n",
        "                proba = model.decode(memory, src_mask, snt,\n",
        "                                     subsequent_mask(snt.size(1)).type_as(src.data))\n",
        "                proba = proba[0][i]\n",
        "                best_k = torch.argsort(-proba)[:k].tolist()\n",
        "                proba = proba.tolist()\n",
        "                for tok in best_k:\n",
        "                    candidates.append(torch.cat([snt, torch.ones(1, 1).type_as(src.data).fill_(tok)], dim=1))\n",
        "                    candidates_proba.append(snt_proba + np.log(proba[tok])) \n",
        "         \n",
        "        best_candidates = np.argsort(-np.array(candidates_proba))[offset:k+offset]\n",
        "        beam = [(candidates[j], candidates_proba[j]) for j in best_candidates]\n",
        "    \n",
        "    return beam"
      ],
      "execution_count": 0,
      "outputs": []
    }
  ]
}